{
 "cells": [
  {
   "cell_type": "code",
   "execution_count": null,
   "id": "cdcfa0a5",
   "metadata": {
    "scrolled": false
   },
   "outputs": [],
   "source": [
    "#!pip install selenium webdriver-manager"
   ]
  },
  {
   "cell_type": "code",
   "execution_count": 2,
   "id": "0adb7a9f",
   "metadata": {},
   "outputs": [],
   "source": [
    "import pandas as pd\n",
    "import time\n",
    "from selenium import webdriver\n",
    "from webdriver_manager.chrome import ChromeDriverManager"
   ]
  },
  {
   "cell_type": "code",
   "execution_count": 3,
   "id": "62eb63d9",
   "metadata": {},
   "outputs": [
    {
     "name": "stderr",
     "output_type": "stream",
     "text": [
      "[WDM] - Downloading: 100%|██████████| 6.79M/6.79M [00:35<00:00, 200kB/s] \n",
      "C:\\Users\\RizzWann\\AppData\\Local\\Temp\\ipykernel_192\\1503906442.py:1: DeprecationWarning: executable_path has been deprecated, please pass in a Service object\n",
      "  driver = webdriver.Chrome(ChromeDriverManager().install())\n"
     ]
    }
   ],
   "source": [
    "driver = webdriver.Chrome(ChromeDriverManager().install())"
   ]
  },
  {
   "cell_type": "code",
   "execution_count": 7,
   "id": "0f5e5c48",
   "metadata": {},
   "outputs": [],
   "source": [
    "page_url = \"https://witcher.fandom.com/wiki/Category:Characters_in_the_stories\"\n",
    "driver.get(page_url)"
   ]
  },
  {
   "cell_type": "code",
   "execution_count": 6,
   "id": "c4b6efc3",
   "metadata": {},
   "outputs": [],
   "source": [
    "from selenium.webdriver.common.by import By\n",
    "#driver.find_element(By.XPATH,'//div[text()=\"Accept\"]').click()#for accept coockies"
   ]
  },
  {
   "cell_type": "code",
   "execution_count": 9,
   "id": "5a6628b6",
   "metadata": {},
   "outputs": [
    {
     "data": {
      "text/plain": [
       "[<selenium.webdriver.remote.webelement.WebElement (session=\"67a349782e0a7705cd1ec9d1abedb564\", element=\"fb7db984-039f-42d2-bfd4-f1068627e853\")>,\n",
       " <selenium.webdriver.remote.webelement.WebElement (session=\"67a349782e0a7705cd1ec9d1abedb564\", element=\"bc256c9e-4501-4e64-9b5e-c24d64b4ca2f\")>,\n",
       " <selenium.webdriver.remote.webelement.WebElement (session=\"67a349782e0a7705cd1ec9d1abedb564\", element=\"ca225968-85b0-4543-b017-6b71cf577996\")>,\n",
       " <selenium.webdriver.remote.webelement.WebElement (session=\"67a349782e0a7705cd1ec9d1abedb564\", element=\"b055ae35-7f07-4bcb-920a-8881f3940db7\")>,\n",
       " <selenium.webdriver.remote.webelement.WebElement (session=\"67a349782e0a7705cd1ec9d1abedb564\", element=\"b349107f-d01d-411e-81e8-10256cfc1d29\")>,\n",
       " <selenium.webdriver.remote.webelement.WebElement (session=\"67a349782e0a7705cd1ec9d1abedb564\", element=\"08166431-1ec4-4566-9918-3a9650178d79\")>,\n",
       " <selenium.webdriver.remote.webelement.WebElement (session=\"67a349782e0a7705cd1ec9d1abedb564\", element=\"d8252d29-6072-4ff7-9ab3-819799ad6254\")>,\n",
       " <selenium.webdriver.remote.webelement.WebElement (session=\"67a349782e0a7705cd1ec9d1abedb564\", element=\"b41540cd-0d98-413e-b3b8-bcc2818ae411\")>,\n",
       " <selenium.webdriver.remote.webelement.WebElement (session=\"67a349782e0a7705cd1ec9d1abedb564\", element=\"decb3428-20ef-400f-80d2-255ea29eaf49\")>,\n",
       " <selenium.webdriver.remote.webelement.WebElement (session=\"67a349782e0a7705cd1ec9d1abedb564\", element=\"25306cf5-7e82-4d43-b126-038ce17512c1\")>,\n",
       " <selenium.webdriver.remote.webelement.WebElement (session=\"67a349782e0a7705cd1ec9d1abedb564\", element=\"c8d77d73-f3c1-4c68-8b50-7734fe882d3f\")>,\n",
       " <selenium.webdriver.remote.webelement.WebElement (session=\"67a349782e0a7705cd1ec9d1abedb564\", element=\"4396f11a-2635-4212-b5c0-a8e0cb818978\")>]"
      ]
     },
     "execution_count": 9,
     "metadata": {},
     "output_type": "execute_result"
    }
   ],
   "source": [
    "book_category = driver.find_elements(By.CLASS_NAME,'category-page__member-link'\n",
    "                                   )\n",
    "book_category"
   ]
  },
  {
   "cell_type": "code",
   "execution_count": 11,
   "id": "53a33645",
   "metadata": {},
   "outputs": [
    {
     "data": {
      "text/plain": [
       "'Category:Baptism of Fire characters'"
      ]
     },
     "execution_count": 11,
     "metadata": {},
     "output_type": "execute_result"
    }
   ],
   "source": [
    "book_category[0].text"
   ]
  },
  {
   "cell_type": "code",
   "execution_count": 13,
   "id": "b8bd688d",
   "metadata": {},
   "outputs": [
    {
     "data": {
      "text/plain": [
       "'https://witcher.fandom.com/wiki/Category:Baptism_of_Fire_characters'"
      ]
     },
     "execution_count": 13,
     "metadata": {},
     "output_type": "execute_result"
    }
   ],
   "source": [
    "book_category[0].get_attribute('href')"
   ]
  },
  {
   "cell_type": "code",
   "execution_count": 15,
   "id": "2d5dd404",
   "metadata": {},
   "outputs": [],
   "source": [
    "books = []\n",
    "for category in book_category:\n",
    "    book_url = category.get_attribute('href')\n",
    "    book_name = category.text\n",
    "    books.append({'book_name': book_name, \"url\": book_url})"
   ]
  },
  {
   "cell_type": "code",
   "execution_count": 16,
   "id": "ebdd493d",
   "metadata": {},
   "outputs": [
    {
     "data": {
      "text/plain": [
       "[{'book_name': 'Category:Baptism of Fire characters',\n",
       "  'url': 'https://witcher.fandom.com/wiki/Category:Baptism_of_Fire_characters'},\n",
       " {'book_name': 'Category:Blood of Elves characters',\n",
       "  'url': 'https://witcher.fandom.com/wiki/Category:Blood_of_Elves_characters'},\n",
       " {'book_name': \"Godamba Thaess'en\",\n",
       "  'url': 'https://witcher.fandom.com/wiki/Godamba_Thaess%27en'},\n",
       " {'book_name': 'Category:Season of Storms characters',\n",
       "  'url': 'https://witcher.fandom.com/wiki/Category:Season_of_Storms_characters'},\n",
       " {'book_name': 'Category:Something Ends, Something Begins characters',\n",
       "  'url': 'https://witcher.fandom.com/wiki/Category:Something_Ends,_Something_Begins_characters'},\n",
       " {'book_name': 'Category:Sword of Destiny characters',\n",
       "  'url': 'https://witcher.fandom.com/wiki/Category:Sword_of_Destiny_characters'},\n",
       " {'book_name': 'Category:Szpony i kły characters',\n",
       "  'url': 'https://witcher.fandom.com/wiki/Category:Szpony_i_k%C5%82y_characters'},\n",
       " {'book_name': 'Category:Tales from the world of The Witcher characters',\n",
       "  'url': 'https://witcher.fandom.com/wiki/Category:Tales_from_the_world_of_The_Witcher_characters'},\n",
       " {'book_name': 'Category:The Lady of the Lake characters',\n",
       "  'url': 'https://witcher.fandom.com/wiki/Category:The_Lady_of_the_Lake_characters'},\n",
       " {'book_name': 'Category:The Last Wish characters',\n",
       "  'url': 'https://witcher.fandom.com/wiki/Category:The_Last_Wish_characters'},\n",
       " {'book_name': 'Category:The Tower of the Swallow characters',\n",
       "  'url': 'https://witcher.fandom.com/wiki/Category:The_Tower_of_the_Swallow_characters'},\n",
       " {'book_name': 'Category:Time of Contempt characters',\n",
       "  'url': 'https://witcher.fandom.com/wiki/Category:Time_of_Contempt_characters'}]"
      ]
     },
     "execution_count": 16,
     "metadata": {},
     "output_type": "execute_result"
    }
   ],
   "source": [
    "books"
   ]
  },
  {
   "cell_type": "code",
   "execution_count": 17,
   "id": "123b0f9d",
   "metadata": {},
   "outputs": [],
   "source": [
    "character_list = []\n",
    "\n",
    "for book in books:\n",
    "    # go to book page\n",
    "    driver.get(book['url'])\n",
    "    \n",
    "    character_elems = driver.find_elements(by=By.CLASS_NAME, value = 'category-page__member-link')\n",
    "    \n",
    "    for elem in character_elems:\n",
    "        character_list.append({'book': book['book_name'],'character': elem.text})"
   ]
  },
  {
   "cell_type": "code",
   "execution_count": 18,
   "id": "68fada59",
   "metadata": {},
   "outputs": [
    {
     "data": {
      "text/html": [
       "<div>\n",
       "<style scoped>\n",
       "    .dataframe tbody tr th:only-of-type {\n",
       "        vertical-align: middle;\n",
       "    }\n",
       "\n",
       "    .dataframe tbody tr th {\n",
       "        vertical-align: top;\n",
       "    }\n",
       "\n",
       "    .dataframe thead th {\n",
       "        text-align: right;\n",
       "    }\n",
       "</style>\n",
       "<table border=\"1\" class=\"dataframe\">\n",
       "  <thead>\n",
       "    <tr style=\"text-align: right;\">\n",
       "      <th></th>\n",
       "      <th>book</th>\n",
       "      <th>character</th>\n",
       "    </tr>\n",
       "  </thead>\n",
       "  <tbody>\n",
       "    <tr>\n",
       "      <th>0</th>\n",
       "      <td>Category:Baptism of Fire characters</td>\n",
       "      <td>Adalia</td>\n",
       "    </tr>\n",
       "    <tr>\n",
       "      <th>1</th>\n",
       "      <td>Category:Baptism of Fire characters</td>\n",
       "      <td>Adela</td>\n",
       "    </tr>\n",
       "    <tr>\n",
       "      <th>2</th>\n",
       "      <td>Category:Baptism of Fire characters</td>\n",
       "      <td>Aen Saevherne</td>\n",
       "    </tr>\n",
       "    <tr>\n",
       "      <th>3</th>\n",
       "      <td>Category:Baptism of Fire characters</td>\n",
       "      <td>Aevenien</td>\n",
       "    </tr>\n",
       "    <tr>\n",
       "      <th>4</th>\n",
       "      <td>Category:Baptism of Fire characters</td>\n",
       "      <td>Aglaïs</td>\n",
       "    </tr>\n",
       "  </tbody>\n",
       "</table>\n",
       "</div>"
      ],
      "text/plain": [
       "                                  book      character\n",
       "0  Category:Baptism of Fire characters         Adalia\n",
       "1  Category:Baptism of Fire characters          Adela\n",
       "2  Category:Baptism of Fire characters  Aen Saevherne\n",
       "3  Category:Baptism of Fire characters       Aevenien\n",
       "4  Category:Baptism of Fire characters         Aglaïs"
      ]
     },
     "execution_count": 18,
     "metadata": {},
     "output_type": "execute_result"
    }
   ],
   "source": [
    "df=pd.DataFrame(character_list)\n",
    "df.head()"
   ]
  },
  {
   "cell_type": "code",
   "execution_count": 19,
   "id": "3730f9a9",
   "metadata": {},
   "outputs": [],
   "source": [
    "import matplotlib.pyplot as plt\n",
    "%matplotlib inline"
   ]
  },
  {
   "cell_type": "code",
   "execution_count": 20,
   "id": "bb1d9404",
   "metadata": {},
   "outputs": [
    {
     "data": {
      "image/png": "[encoded data removed]",
      "text/plain": [
       "<Figure size 432x288 with 1 Axes>"
      ]
     },
     "metadata": {
      "needs_background": "light"
     },
     "output_type": "display_data"
    }
   ],
   "source": [
    "df.book.value_counts().plot(kind='bar')\n",
    "plt.show()"
   ]
  },
  {
   "cell_type": "code",
   "execution_count": null,
   "id": "756c4806",
   "metadata": {},
   "outputs": [],
   "source": [
    "#!pip install pyvis networkx"
   ]
  },
  {
   "cell_type": "code",
   "execution_count": 1,
   "id": "faaaffe0",
   "metadata": {},
   "outputs": [],
   "source": [
    "import pandas as pd\n",
    "import numpy as np\n",
    "import pyvis as pv\n",
    "import networkx as nx\n",
    "import spacy\n",
    "from spacy import displacy\n",
    "import matplotlib.pyplot as plt\n",
    "%matplotlib inline"
   ]
  },
  {
   "cell_type": "code",
   "execution_count": 2,
   "id": "db1b9c81",
   "metadata": {},
   "outputs": [],
   "source": [
    "NER = spacy.load(\"en_core_web_sm\")"
   ]
  },
  {
   "cell_type": "code",
   "execution_count": 3,
   "id": "40b99128",
   "metadata": {},
   "outputs": [
    {
     "data": {
      "text/plain": [
       "[<DirEntry 'B - The Sword of Destiny.txt'>,\n",
       " <DirEntry 'C - The Last Wish.txt'>,\n",
       " <DirEntry 'E - something ends something begins.txt'>,\n",
       " <DirEntry 'I - Blood of Elves.txt'>,\n",
       " <DirEntry 'II - Times of Contempt.txt'>,\n",
       " <DirEntry 'III - Baptism of Fire.txt'>,\n",
       " <DirEntry 'IV - The Tower of the Swallow.txt'>,\n",
       " <DirEntry 'V - The Lady of the Lake.txt'>]"
      ]
     },
     "execution_count": 3,
     "metadata": {},
     "output_type": "execute_result"
    }
   ],
   "source": [
    "import os\n",
    "all_books = [b for b in os.scandir(\"E:DS/Datasets/text/\") if '.txt' in b.name ]\n",
    "all_books"
   ]
  },
  {
   "cell_type": "code",
   "execution_count": 4,
   "id": "e6f8d68d",
   "metadata": {},
   "outputs": [],
   "source": [
    "book = all_books[0]\n",
    "text_book =  open(book).read()\n",
    "book_doc = NER(text_book)"
   ]
  },
  {
   "cell_type": "code",
   "execution_count": 5,
   "id": "e32fad27",
   "metadata": {},
   "outputs": [
    {
     "data": {
      "text/html": [
       "<span class=\"tex2jax_ignore\"><div class=\"entities\" style=\"line-height: 2.5; direction: ltr\">\n",
       "<mark class=\"entity\" style=\"background: #f0d0ff; padding: 0.45em 0.6em; margin: 0 0.25em; line-height: 1; border-radius: 0.35em;\">\n",
       "    ï»¿The Limits of the Possible\n",
       "    <span style=\"font-size: 0.8em; font-weight: bold; line-height: 1; border-radius: 0.35em; vertical-align: middle; margin-left: 0.5rem\">WORK_OF_ART</span>\n",
       "</mark>\n",
       "</br>I</br>&quot;He's not coming back out, I tell you!&quot; stated a pimply-faced man, shaking his head with</br>finality. &quot;It's been \n",
       "<mark class=\"entity\" style=\"background: #bfe1d9; padding: 0.45em 0.6em; margin: 0 0.25em; line-height: 1; border-radius: 0.35em;\">\n",
       "    an hour and a quarter\n",
       "    <span style=\"font-size: 0.8em; font-weight: bold; line-height: 1; border-radius: 0.35em; vertical-align: middle; margin-left: 0.5rem\">TIME</span>\n",
       "</mark>\n",
       " since he went in. He's done for.&quot;</br>The townsfolk, huddled together in the midst of the ruins and rubble, watched the gaping</br>black hole of the entrance to the tunnel in silence. A fat man dressed in a yellow smock</br>shifted slightly from one foot to the other, cleared his throat and pulled his wrinkled cap from</br>his head.</br>&quot;We have to wait a bit longer,&quot; he said as he wiped the sweat from his sparse eyebrows.</br>&quot;Why wait?&quot; snorted pimply, &quot;There in the caves lurks a basilisk, or have you forgotten,</br>burgrave? Anyone goes down there, that's the end of them. Have you forgotten how many</br>have died down there already? What are we waiting for?&quot;</br>&quot;This was the agreement, wasn't it?&quot; murmured the fat man uncertainly.</br>&quot;An agreement you made with a living man, burgrave&quot; said the pimply-faced man's</br>companion, a giant of a man in a leather butcher's apron. &quot;He is now dead, as surely as the</br>sun shines in the sky. It was plain from the beginning that he was headed towards death, like</br>all the others before him. He didn't even take a mirror with him, only a sword - and</br>everybody knows you need a mirror in order to kill a basilisk.&quot;</br>&quot;At least we've saved some coin,&quot; added pimples &quot;there's no one to pay for taking care of the</br>basilisk. You might as well go home. As far as the sorcerer's horse and baggage... well it</br>would be a shame if they went to waste.&quot;</br>&quot;Yes,&quot; said the butcher, &quot;It's a fine old mare and the saddlebags are full. Let's take a look.&quot;</br>&quot;What are you doing?&quot;</br>&quot;\n",
       "<mark class=\"entity\" style=\"background: #aa9cfc; padding: 0.45em 0.6em; margin: 0 0.25em; line-height: 1; border-radius: 0.35em;\">\n",
       "    Shut\n",
       "    <span style=\"font-size: 0.8em; font-weight: bold; line-height: 1; border-radius: 0.35em; vertical-align: middle; margin-left: 0.5rem\">PERSON</span>\n",
       "</mark>\n",
       " up, burgrave. Don't get in the way unless you want a punch in the face,&quot; threatened the</br>pimpled man.</br>&quot;A fine old mare,&quot; repeated the butcher.</br>&quot;Leave the horse alone, my darling.&quot;</br>The butcher slowly turned around towards the stranger who had suddenly appeared from</br>behind a collapsed wall, just at the back of the audience gathered around the tunnel entrance.</br>The stranger had thick curly brown hair and wore a dark brown tunic under a puffy cotton</br>coat and tall riding boots. He had no weapons.</br>\n",
       "<mark class=\"entity\" style=\"background: #e4e7d2; padding: 0.45em 0.6em; margin: 0 0.25em; line-height: 1; border-radius: 0.35em;\">\n",
       "    3\n",
       "    <span style=\"font-size: 0.8em; font-weight: bold; line-height: 1; border-radius: 0.35em; vertical-align: middle; margin-left: 0.5rem\">CARDINAL</span>\n",
       "</mark>\n",
       "</br>&quot;Step away from the horse,&quot; he repeated with a menacing smile. &quot;What have we here? A horse and saddlebags belonging to another and yet you eye them greedily and paw through them. Is that honourable?&quot;</br>Pimply slowly slipped a hand inside his overcoat and glanced at the butcher. The butcher gave a nod and signalled toward the crowd, out of which stepped \n",
       "<mark class=\"entity\" style=\"background: #e4e7d2; padding: 0.45em 0.6em; margin: 0 0.25em; line-height: 1; border-radius: 0.35em;\">\n",
       "    two\n",
       "    <span style=\"font-size: 0.8em; font-weight: bold; line-height: 1; border-radius: 0.35em; vertical-align: middle; margin-left: 0.5rem\">CARDINAL</span>\n",
       "</mark>\n",
       " strong, close cropped, youths. Both carried heavy clubs, like those used to stun animals in the slaughterhouse.</br>&quot;Who are you?&quot; demanded the pimply-faced man, whose hand remained hidden inside his overcoat, &quot;to tell us what is and isn't honourable?&quot;</br>&quot;That's none of your business, my dear.&quot;</br>&quot;You carry no weapons.&quot;</br>&quot;That's true,&quot; the stranger's smile grew even more poisonous, &quot;I don't carry weapons.&quot;</br>&quot;That's no good,&quot; pimply drew a long knife out from inside his coat, &quot;Too bad for you you're not armed.&quot;</br>The butcher also drew a blade; a long hunting knife. The other \n",
       "<mark class=\"entity\" style=\"background: #e4e7d2; padding: 0.45em 0.6em; margin: 0 0.25em; line-height: 1; border-radius: 0.35em;\">\n",
       "    two\n",
       "    <span style=\"font-size: 0.8em; font-weight: bold; line-height: 1; border-radius: 0.35em; vertical-align: middle; margin-left: 0.5rem\">CARDINAL</span>\n",
       "</mark>\n",
       " men approached, brandishing their clubs.</br>&quot;I don't carry weapons,&quot; responded the stranger, not budging, &quot;but I'm always armed.&quot;</br>From behind the ruins, \n",
       "<mark class=\"entity\" style=\"background: #e4e7d2; padding: 0.45em 0.6em; margin: 0 0.25em; line-height: 1; border-radius: 0.35em;\">\n",
       "    two\n",
       "    <span style=\"font-size: 0.8em; font-weight: bold; line-height: 1; border-radius: 0.35em; vertical-align: middle; margin-left: 0.5rem\">CARDINAL</span>\n",
       "</mark>\n",
       " young women stepped out lightly and confidently. The crowd quickly parted, retreated then thinned out.</br>The girls smiled, flashing their teeth, and blinked. They had blue stripes tattooed from the corners of their eyes to the tips of their ears. \n",
       "<mark class=\"entity\" style=\"background: #aa9cfc; padding: 0.45em 0.6em; margin: 0 0.25em; line-height: 1; border-radius: 0.35em;\">\n",
       "    Lynx\n",
       "    <span style=\"font-size: 0.8em; font-weight: bold; line-height: 1; border-radius: 0.35em; vertical-align: middle; margin-left: 0.5rem\">PERSON</span>\n",
       "</mark>\n",
       " pelt clad their strong muscles from thigh to hip and their bare arms curved above their mail gauntlets. From behind the mail-clad shoulder of each rose the hilt of a sabre.</br>\n",
       "<mark class=\"entity\" style=\"background: #feca74; padding: 0.45em 0.6em; margin: 0 0.25em; line-height: 1; border-radius: 0.35em;\">\n",
       "    Pimply\n",
       "    <span style=\"font-size: 0.8em; font-weight: bold; line-height: 1; border-radius: 0.35em; vertical-align: middle; margin-left: 0.5rem\">GPE</span>\n",
       "</mark>\n",
       " got down on \n",
       "<mark class=\"entity\" style=\"background: #e4e7d2; padding: 0.45em 0.6em; margin: 0 0.25em; line-height: 1; border-radius: 0.35em;\">\n",
       "    one\n",
       "    <span style=\"font-size: 0.8em; font-weight: bold; line-height: 1; border-radius: 0.35em; vertical-align: middle; margin-left: 0.5rem\">CARDINAL</span>\n",
       "</mark>\n",
       " knee and slowly, very slowly, placed his knife on the ground.</br>From the hole in ruins came a rumble of stones, grinding, and then from the darkness there emerged \n",
       "<mark class=\"entity\" style=\"background: #e4e7d2; padding: 0.45em 0.6em; margin: 0 0.25em; line-height: 1; border-radius: 0.35em;\">\n",
       "    two\n",
       "    <span style=\"font-size: 0.8em; font-weight: bold; line-height: 1; border-radius: 0.35em; vertical-align: middle; margin-left: 0.5rem\">CARDINAL</span>\n",
       "</mark>\n",
       " hands clutching the jagged edge of the wall. Following the hands, a white head appeared, the hair powdered with brick dust, a pale face and then, finally, shoulders, above which stood the hilt of a sword. A murmur escaped the crowd.</br>The alabaster-haired man straightened and pulled a strange shape from the hole; a small, odd looking body covered in dust and blood. Holding the beast by its </div></span>"
      ],
      "text/plain": [
       "<IPython.core.display.HTML object>"
      ]
     },
     "metadata": {},
     "output_type": "display_data"
    }
   ],
   "source": [
    "displacy.render(book_doc[:1000],style='ent')"
   ]
  },
  {
   "cell_type": "code",
   "execution_count": 6,
   "id": "ee13c30b",
   "metadata": {},
   "outputs": [
    {
     "data": {
      "text/html": [
       "<div>\n",
       "<style scoped>\n",
       "    .dataframe tbody tr th:only-of-type {\n",
       "        vertical-align: middle;\n",
       "    }\n",
       "\n",
       "    .dataframe tbody tr th {\n",
       "        vertical-align: top;\n",
       "    }\n",
       "\n",
       "    .dataframe thead th {\n",
       "        text-align: right;\n",
       "    }\n",
       "</style>\n",
       "<table border=\"1\" class=\"dataframe\">\n",
       "  <thead>\n",
       "    <tr style=\"text-align: right;\">\n",
       "      <th></th>\n",
       "      <th>book</th>\n",
       "      <th>character</th>\n",
       "    </tr>\n",
       "  </thead>\n",
       "  <tbody>\n",
       "    <tr>\n",
       "      <th>0</th>\n",
       "      <td>Category:Baptism of Fire characters</td>\n",
       "      <td>Adalia</td>\n",
       "    </tr>\n",
       "    <tr>\n",
       "      <th>1</th>\n",
       "      <td>Category:Baptism of Fire characters</td>\n",
       "      <td>Adela</td>\n",
       "    </tr>\n",
       "    <tr>\n",
       "      <th>2</th>\n",
       "      <td>Category:Baptism of Fire characters</td>\n",
       "      <td>Aen Saevherne</td>\n",
       "    </tr>\n",
       "    <tr>\n",
       "      <th>3</th>\n",
       "      <td>Category:Baptism of Fire characters</td>\n",
       "      <td>Aevenien</td>\n",
       "    </tr>\n",
       "    <tr>\n",
       "      <th>4</th>\n",
       "      <td>Category:Baptism of Fire characters</td>\n",
       "      <td>Aglaïs</td>\n",
       "    </tr>\n",
       "  </tbody>\n",
       "</table>\n",
       "</div>"
      ],
      "text/plain": [
       "                                  book      character\n",
       "0  Category:Baptism of Fire characters         Adalia\n",
       "1  Category:Baptism of Fire characters          Adela\n",
       "2  Category:Baptism of Fire characters  Aen Saevherne\n",
       "3  Category:Baptism of Fire characters       Aevenien\n",
       "4  Category:Baptism of Fire characters         Aglaïs"
      ]
     },
     "execution_count": 6,
     "metadata": {},
     "output_type": "execute_result"
    }
   ],
   "source": [
    "df=pd.read_csv(\"E:DS/Datasets/text/witcher.csv\")\n",
    "df.head()"
   ]
  },
  {
   "cell_type": "code",
   "execution_count": 7,
   "id": "598d986e",
   "metadata": {},
   "outputs": [],
   "source": [
    "import re"
   ]
  },
  {
   "cell_type": "code",
   "execution_count": 8,
   "id": "1097ca87",
   "metadata": {
    "scrolled": true
   },
   "outputs": [
    {
     "data": {
      "text/html": [
       "<div>\n",
       "<style scoped>\n",
       "    .dataframe tbody tr th:only-of-type {\n",
       "        vertical-align: middle;\n",
       "    }\n",
       "\n",
       "    .dataframe tbody tr th {\n",
       "        vertical-align: top;\n",
       "    }\n",
       "\n",
       "    .dataframe thead th {\n",
       "        text-align: right;\n",
       "    }\n",
       "</style>\n",
       "<table border=\"1\" class=\"dataframe\">\n",
       "  <thead>\n",
       "    <tr style=\"text-align: right;\">\n",
       "      <th></th>\n",
       "      <th>book</th>\n",
       "      <th>character</th>\n",
       "      <th>first_name</th>\n",
       "    </tr>\n",
       "  </thead>\n",
       "  <tbody>\n",
       "    <tr>\n",
       "      <th>0</th>\n",
       "      <td>Category:Baptism of Fire characters</td>\n",
       "      <td>Adalia</td>\n",
       "      <td>Adalia</td>\n",
       "    </tr>\n",
       "    <tr>\n",
       "      <th>1</th>\n",
       "      <td>Category:Baptism of Fire characters</td>\n",
       "      <td>Adela</td>\n",
       "      <td>Adela</td>\n",
       "    </tr>\n",
       "    <tr>\n",
       "      <th>2</th>\n",
       "      <td>Category:Baptism of Fire characters</td>\n",
       "      <td>Aen Saevherne</td>\n",
       "      <td>Aen</td>\n",
       "    </tr>\n",
       "    <tr>\n",
       "      <th>3</th>\n",
       "      <td>Category:Baptism of Fire characters</td>\n",
       "      <td>Aevenien</td>\n",
       "      <td>Aevenien</td>\n",
       "    </tr>\n",
       "    <tr>\n",
       "      <th>4</th>\n",
       "      <td>Category:Baptism of Fire characters</td>\n",
       "      <td>Aglaïs</td>\n",
       "      <td>Aglaïs</td>\n",
       "    </tr>\n",
       "    <tr>\n",
       "      <th>...</th>\n",
       "      <td>...</td>\n",
       "      <td>...</td>\n",
       "      <td>...</td>\n",
       "    </tr>\n",
       "    <tr>\n",
       "      <th>1270</th>\n",
       "      <td>Category:Time of Contempt characters</td>\n",
       "      <td>Yanna of Murivel</td>\n",
       "      <td>Yanna</td>\n",
       "    </tr>\n",
       "    <tr>\n",
       "      <th>1271</th>\n",
       "      <td>Category:Time of Contempt characters</td>\n",
       "      <td>Yarpen Zigrin</td>\n",
       "      <td>Yarpen</td>\n",
       "    </tr>\n",
       "    <tr>\n",
       "      <th>1272</th>\n",
       "      <td>Category:Time of Contempt characters</td>\n",
       "      <td>Yennefer of Vengerberg</td>\n",
       "      <td>Yennefer</td>\n",
       "    </tr>\n",
       "    <tr>\n",
       "      <th>1273</th>\n",
       "      <td>Category:Time of Contempt characters</td>\n",
       "      <td>Yiolenta Suarez</td>\n",
       "      <td>Yiolenta</td>\n",
       "    </tr>\n",
       "    <tr>\n",
       "      <th>1274</th>\n",
       "      <td>Category:Time of Contempt characters</td>\n",
       "      <td>Zyvik</td>\n",
       "      <td>Zyvik</td>\n",
       "    </tr>\n",
       "  </tbody>\n",
       "</table>\n",
       "<p>1275 rows × 3 columns</p>\n",
       "</div>"
      ],
      "text/plain": [
       "                                      book               character first_name\n",
       "0      Category:Baptism of Fire characters                  Adalia     Adalia\n",
       "1      Category:Baptism of Fire characters                   Adela      Adela\n",
       "2      Category:Baptism of Fire characters           Aen Saevherne        Aen\n",
       "3      Category:Baptism of Fire characters                Aevenien   Aevenien\n",
       "4      Category:Baptism of Fire characters                  Aglaïs     Aglaïs\n",
       "...                                    ...                     ...        ...\n",
       "1270  Category:Time of Contempt characters        Yanna of Murivel      Yanna\n",
       "1271  Category:Time of Contempt characters           Yarpen Zigrin     Yarpen\n",
       "1272  Category:Time of Contempt characters  Yennefer of Vengerberg   Yennefer\n",
       "1273  Category:Time of Contempt characters         Yiolenta Suarez   Yiolenta\n",
       "1274  Category:Time of Contempt characters                   Zyvik      Zyvik\n",
       "\n",
       "[1275 rows x 3 columns]"
      ]
     },
     "execution_count": 8,
     "metadata": {},
     "output_type": "execute_result"
    }
   ],
   "source": [
    "df.character = df.character.apply(lambda x:re.sub(\"[\\(].*?[\\)]\",\"\",x))\n",
    "df[\"first_name\"] = df.character.apply(lambda x:x.split(' ',1)[0])\n",
    "df"
   ]
  },
  {
   "cell_type": "code",
   "execution_count": 12,
   "id": "7b9a71f2",
   "metadata": {},
   "outputs": [],
   "source": [
    "sent_entity_df = []\n",
    "for sent in book_doc.sents:\n",
    "    ent_list = [ent.text for ent in sent.ents]\n",
    "    sent_entity_df.append({\"Sentence\":sent,\"entities\":ent_list}\n",
    "                         )\n",
    "    "
   ]
  },
  {
   "cell_type": "code",
   "execution_count": 13,
   "id": "8f08332f",
   "metadata": {},
   "outputs": [
    {
     "data": {
      "text/html": [
       "<div>\n",
       "<style scoped>\n",
       "    .dataframe tbody tr th:only-of-type {\n",
       "        vertical-align: middle;\n",
       "    }\n",
       "\n",
       "    .dataframe tbody tr th {\n",
       "        vertical-align: top;\n",
       "    }\n",
       "\n",
       "    .dataframe thead th {\n",
       "        text-align: right;\n",
       "    }\n",
       "</style>\n",
       "<table border=\"1\" class=\"dataframe\">\n",
       "  <thead>\n",
       "    <tr style=\"text-align: right;\">\n",
       "      <th></th>\n",
       "      <th>Sentence</th>\n",
       "      <th>entities</th>\n",
       "    </tr>\n",
       "  </thead>\n",
       "  <tbody>\n",
       "    <tr>\n",
       "      <th>0</th>\n",
       "      <td>(ï»¿The, Limits, of, the, Possible, \\n, I, \\n,...</td>\n",
       "      <td>[ï»¿The Limits of the Possible]</td>\n",
       "    </tr>\n",
       "    <tr>\n",
       "      <th>1</th>\n",
       "      <td>(\", It, 's, been, an, hour, and, a, quarter, s...</td>\n",
       "      <td>[an hour and a quarter]</td>\n",
       "    </tr>\n",
       "    <tr>\n",
       "      <th>2</th>\n",
       "      <td>(He, 's, done, for, .)</td>\n",
       "      <td>[]</td>\n",
       "    </tr>\n",
       "    <tr>\n",
       "      <th>3</th>\n",
       "      <td>(\", \\n, The, townsfolk, ,, huddled, together, ...</td>\n",
       "      <td>[]</td>\n",
       "    </tr>\n",
       "    <tr>\n",
       "      <th>4</th>\n",
       "      <td>(A, fat, man, dressed, in, a, yellow, smock, \\...</td>\n",
       "      <td>[]</td>\n",
       "    </tr>\n",
       "    <tr>\n",
       "      <th>...</th>\n",
       "      <td>...</td>\n",
       "      <td>...</td>\n",
       "    </tr>\n",
       "    <tr>\n",
       "      <th>11327</th>\n",
       "      <td>(\", \\n, Yurga, saw, astonishment, in, the, eye...</td>\n",
       "      <td>[Yurga]</td>\n",
       "    </tr>\n",
       "    <tr>\n",
       "      <th>11328</th>\n",
       "      <td>(He, heard, Chrysididae, 's, discreet, sobs, a...</td>\n",
       "      <td>[]</td>\n",
       "    </tr>\n",
       "    <tr>\n",
       "      <th>11329</th>\n",
       "      <td>(He, knew, that, he, would, not, understand, t...</td>\n",
       "      <td>[]</td>\n",
       "    </tr>\n",
       "    <tr>\n",
       "      <th>11330</th>\n",
       "      <td>(With, good, reason, :, \\n, \", You, 're, more,...</td>\n",
       "      <td>[]</td>\n",
       "    </tr>\n",
       "    <tr>\n",
       "      <th>11331</th>\n",
       "      <td>(More, than, that, ., \")</td>\n",
       "      <td>[]</td>\n",
       "    </tr>\n",
       "  </tbody>\n",
       "</table>\n",
       "<p>11332 rows × 2 columns</p>\n",
       "</div>"
      ],
      "text/plain": [
       "                                                Sentence  \\\n",
       "0      (ï»¿The, Limits, of, the, Possible, \\n, I, \\n,...   \n",
       "1      (\", It, 's, been, an, hour, and, a, quarter, s...   \n",
       "2                                 (He, 's, done, for, .)   \n",
       "3      (\", \\n, The, townsfolk, ,, huddled, together, ...   \n",
       "4      (A, fat, man, dressed, in, a, yellow, smock, \\...   \n",
       "...                                                  ...   \n",
       "11327  (\", \\n, Yurga, saw, astonishment, in, the, eye...   \n",
       "11328  (He, heard, Chrysididae, 's, discreet, sobs, a...   \n",
       "11329  (He, knew, that, he, would, not, understand, t...   \n",
       "11330  (With, good, reason, :, \\n, \", You, 're, more,...   \n",
       "11331                           (More, than, that, ., \")   \n",
       "\n",
       "                              entities  \n",
       "0      [ï»¿The Limits of the Possible]  \n",
       "1              [an hour and a quarter]  \n",
       "2                                   []  \n",
       "3                                   []  \n",
       "4                                   []  \n",
       "...                                ...  \n",
       "11327                          [Yurga]  \n",
       "11328                               []  \n",
       "11329                               []  \n",
       "11330                               []  \n",
       "11331                               []  \n",
       "\n",
       "[11332 rows x 2 columns]"
      ]
     },
     "execution_count": 13,
     "metadata": {},
     "output_type": "execute_result"
    }
   ],
   "source": [
    "sent_entity_df=pd.DataFrame(sent_entity_df)\n",
    "sent_entity_df"
   ]
  },
  {
   "cell_type": "code",
   "execution_count": 14,
   "id": "ea0cbdbe",
   "metadata": {},
   "outputs": [],
   "source": [
    "def filter_entity(ent_list,character_df):\n",
    "    return [\n",
    "        ent for ent in ent_list\n",
    "        if ent in list(character_df.character)\n",
    "        or\n",
    "        ent in list(character_df.first_name)\n",
    "    ]"
   ]
  },
  {
   "cell_type": "code",
   "execution_count": 15,
   "id": "8114e35a",
   "metadata": {},
   "outputs": [
    {
     "data": {
      "text/plain": [
       "['Geralt']"
      ]
     },
     "execution_count": 15,
     "metadata": {},
     "output_type": "execute_result"
    }
   ],
   "source": [
    "filter_entity(['Geralt','Thu','2','rizz'],df)"
   ]
  },
  {
   "cell_type": "code",
   "execution_count": 18,
   "id": "622c2a8a",
   "metadata": {},
   "outputs": [
    {
     "data": {
      "text/html": [
       "<div>\n",
       "<style scoped>\n",
       "    .dataframe tbody tr th:only-of-type {\n",
       "        vertical-align: middle;\n",
       "    }\n",
       "\n",
       "    .dataframe tbody tr th {\n",
       "        vertical-align: top;\n",
       "    }\n",
       "\n",
       "    .dataframe thead th {\n",
       "        text-align: right;\n",
       "    }\n",
       "</style>\n",
       "<table border=\"1\" class=\"dataframe\">\n",
       "  <thead>\n",
       "    <tr style=\"text-align: right;\">\n",
       "      <th></th>\n",
       "      <th>Sentence</th>\n",
       "      <th>entities</th>\n",
       "      <th>character_entities</th>\n",
       "    </tr>\n",
       "  </thead>\n",
       "  <tbody>\n",
       "    <tr>\n",
       "      <th>85</th>\n",
       "      <td>(I, am, Geralt, of, Rivia, .)</td>\n",
       "      <td>[Geralt of Rivia]</td>\n",
       "      <td>[Geralt of Rivia]</td>\n",
       "    </tr>\n",
       "    <tr>\n",
       "      <th>95</th>\n",
       "      <td>(Is, there, anything, keeping, you, in, this, ...</td>\n",
       "      <td>[Geralt of Rivia]</td>\n",
       "      <td>[Geralt of Rivia]</td>\n",
       "    </tr>\n",
       "    <tr>\n",
       "      <th>102</th>\n",
       "      <td>(\", \\n, \", Borch, ,, \", replied, Geralt, ,, wh...</td>\n",
       "      <td>[Borch, Geralt]</td>\n",
       "      <td>[Geralt]</td>\n",
       "    </tr>\n",
       "    <tr>\n",
       "      <th>106</th>\n",
       "      <td>(\", \\n, \", There, are, some, ,, \", Geralt, rep...</td>\n",
       "      <td>[Geralt]</td>\n",
       "      <td>[Geralt]</td>\n",
       "    </tr>\n",
       "    <tr>\n",
       "      <th>110</th>\n",
       "      <td>(\", \\n, Geralt, took, off, a, glove, and, shoo...</td>\n",
       "      <td>[Geralt]</td>\n",
       "      <td>[Geralt]</td>\n",
       "    </tr>\n",
       "    <tr>\n",
       "      <th>140</th>\n",
       "      <td>(\", I, forgot, ,, \", Three, Jackdaws, winked, ...</td>\n",
       "      <td>[Three Jackdaws, Geralt]</td>\n",
       "      <td>[Geralt]</td>\n",
       "    </tr>\n",
       "    <tr>\n",
       "      <th>151</th>\n",
       "      <td>(Geralt, loosened, his, belt, ,, removed, his,...</td>\n",
       "      <td>[Geralt]</td>\n",
       "      <td>[Geralt]</td>\n",
       "    </tr>\n",
       "    <tr>\n",
       "      <th>157</th>\n",
       "      <td>(\", Do, the, girls, speak, the, common, langua...</td>\n",
       "      <td>[Geralt]</td>\n",
       "      <td>[Geralt]</td>\n",
       "    </tr>\n",
       "    <tr>\n",
       "      <th>160</th>\n",
       "      <td>(How, 's, your, soup, ,, Geralt, ?, \", \\n, \", ...</td>\n",
       "      <td>[Geralt, Hmm]</td>\n",
       "      <td>[Geralt]</td>\n",
       "    </tr>\n",
       "    <tr>\n",
       "      <th>169</th>\n",
       "      <td>(Yet, there, is, a, certain, principal, underl...</td>\n",
       "      <td>[Geralt]</td>\n",
       "      <td>[Geralt]</td>\n",
       "    </tr>\n",
       "  </tbody>\n",
       "</table>\n",
       "</div>"
      ],
      "text/plain": [
       "                                              Sentence  \\\n",
       "85                       (I, am, Geralt, of, Rivia, .)   \n",
       "95   (Is, there, anything, keeping, you, in, this, ...   \n",
       "102  (\", \\n, \", Borch, ,, \", replied, Geralt, ,, wh...   \n",
       "106  (\", \\n, \", There, are, some, ,, \", Geralt, rep...   \n",
       "110  (\", \\n, Geralt, took, off, a, glove, and, shoo...   \n",
       "140  (\", I, forgot, ,, \", Three, Jackdaws, winked, ...   \n",
       "151  (Geralt, loosened, his, belt, ,, removed, his,...   \n",
       "157  (\", Do, the, girls, speak, the, common, langua...   \n",
       "160  (How, 's, your, soup, ,, Geralt, ?, \", \\n, \", ...   \n",
       "169  (Yet, there, is, a, certain, principal, underl...   \n",
       "\n",
       "                     entities character_entities  \n",
       "85          [Geralt of Rivia]  [Geralt of Rivia]  \n",
       "95          [Geralt of Rivia]  [Geralt of Rivia]  \n",
       "102           [Borch, Geralt]           [Geralt]  \n",
       "106                  [Geralt]           [Geralt]  \n",
       "110                  [Geralt]           [Geralt]  \n",
       "140  [Three Jackdaws, Geralt]           [Geralt]  \n",
       "151                  [Geralt]           [Geralt]  \n",
       "157                  [Geralt]           [Geralt]  \n",
       "160             [Geralt, Hmm]           [Geralt]  \n",
       "169                  [Geralt]           [Geralt]  "
      ]
     },
     "execution_count": 18,
     "metadata": {},
     "output_type": "execute_result"
    }
   ],
   "source": [
    "sent_entity_df['character_entities'] = sent_entity_df.entities.apply(lambda x:filter_entity(x,df))\n",
    "sent_entity_df_filtered = sent_entity_df[sent_entity_df.character_entities.map(len)>0]\n",
    "sent_entity_df_filtered.head(10)"
   ]
  },
  {
   "cell_type": "code",
   "execution_count": 20,
   "id": "c808c2c8",
   "metadata": {},
   "outputs": [
    {
     "name": "stderr",
     "output_type": "stream",
     "text": [
      "C:\\Users\\RizzWann\\AppData\\Local\\Temp\\ipykernel_8164\\520814053.py:1: SettingWithCopyWarning: \n",
      "A value is trying to be set on a copy of a slice from a DataFrame.\n",
      "Try using .loc[row_indexer,col_indexer] = value instead\n",
      "\n",
      "See the caveats in the documentation: https://pandas.pydata.org/pandas-docs/stable/user_guide/indexing.html#returning-a-view-versus-a-copy\n",
      "  sent_entity_df_filtered.character_entities = sent_entity_df_filtered.character_entities.apply(lambda x:\n"
     ]
    }
   ],
   "source": [
    "sent_entity_df_filtered.character_entities = sent_entity_df_filtered.character_entities.apply(lambda x:\n",
    "                                                [item.split()[0]\n",
    "                                                 for item in x\n",
    "                                                ]\n",
    "                                                )"
   ]
  },
  {
   "cell_type": "code",
   "execution_count": 21,
   "id": "8f98d6b7",
   "metadata": {},
   "outputs": [
    {
     "data": {
      "text/html": [
       "<div>\n",
       "<style scoped>\n",
       "    .dataframe tbody tr th:only-of-type {\n",
       "        vertical-align: middle;\n",
       "    }\n",
       "\n",
       "    .dataframe tbody tr th {\n",
       "        vertical-align: top;\n",
       "    }\n",
       "\n",
       "    .dataframe thead th {\n",
       "        text-align: right;\n",
       "    }\n",
       "</style>\n",
       "<table border=\"1\" class=\"dataframe\">\n",
       "  <thead>\n",
       "    <tr style=\"text-align: right;\">\n",
       "      <th></th>\n",
       "      <th>Sentence</th>\n",
       "      <th>entities</th>\n",
       "      <th>character_entities</th>\n",
       "    </tr>\n",
       "  </thead>\n",
       "  <tbody>\n",
       "    <tr>\n",
       "      <th>85</th>\n",
       "      <td>(I, am, Geralt, of, Rivia, .)</td>\n",
       "      <td>[Geralt of Rivia]</td>\n",
       "      <td>[Geralt]</td>\n",
       "    </tr>\n",
       "    <tr>\n",
       "      <th>95</th>\n",
       "      <td>(Is, there, anything, keeping, you, in, this, ...</td>\n",
       "      <td>[Geralt of Rivia]</td>\n",
       "      <td>[Geralt]</td>\n",
       "    </tr>\n",
       "    <tr>\n",
       "      <th>102</th>\n",
       "      <td>(\", \\n, \", Borch, ,, \", replied, Geralt, ,, wh...</td>\n",
       "      <td>[Borch, Geralt]</td>\n",
       "      <td>[Geralt]</td>\n",
       "    </tr>\n",
       "    <tr>\n",
       "      <th>106</th>\n",
       "      <td>(\", \\n, \", There, are, some, ,, \", Geralt, rep...</td>\n",
       "      <td>[Geralt]</td>\n",
       "      <td>[Geralt]</td>\n",
       "    </tr>\n",
       "    <tr>\n",
       "      <th>110</th>\n",
       "      <td>(\", \\n, Geralt, took, off, a, glove, and, shoo...</td>\n",
       "      <td>[Geralt]</td>\n",
       "      <td>[Geralt]</td>\n",
       "    </tr>\n",
       "    <tr>\n",
       "      <th>...</th>\n",
       "      <td>...</td>\n",
       "      <td>...</td>\n",
       "      <td>...</td>\n",
       "    </tr>\n",
       "    <tr>\n",
       "      <th>11314</th>\n",
       "      <td>(He, only, saw, black, -, gloved, hands, squee...</td>\n",
       "      <td>[Ciri]</td>\n",
       "      <td>[Ciri]</td>\n",
       "    </tr>\n",
       "    <tr>\n",
       "      <th>11316</th>\n",
       "      <td>(Oh, ,, Geralt, !)</td>\n",
       "      <td>[Geralt]</td>\n",
       "      <td>[Geralt]</td>\n",
       "    </tr>\n",
       "    <tr>\n",
       "      <th>11321</th>\n",
       "      <td>(Say, it, ,, Geralt, !)</td>\n",
       "      <td>[Geralt]</td>\n",
       "      <td>[Geralt]</td>\n",
       "    </tr>\n",
       "    <tr>\n",
       "      <th>11322</th>\n",
       "      <td>(Forever, !, Say, it, !, \", \\n, \", Forever, ,,...</td>\n",
       "      <td>[Forever, Ciri, Geralt]</td>\n",
       "      <td>[Ciri, Geralt]</td>\n",
       "    </tr>\n",
       "    <tr>\n",
       "      <th>11327</th>\n",
       "      <td>(\", \\n, Yurga, saw, astonishment, in, the, eye...</td>\n",
       "      <td>[Yurga]</td>\n",
       "      <td>[Yurga]</td>\n",
       "    </tr>\n",
       "  </tbody>\n",
       "</table>\n",
       "<p>1696 rows × 3 columns</p>\n",
       "</div>"
      ],
      "text/plain": [
       "                                                Sentence  \\\n",
       "85                         (I, am, Geralt, of, Rivia, .)   \n",
       "95     (Is, there, anything, keeping, you, in, this, ...   \n",
       "102    (\", \\n, \", Borch, ,, \", replied, Geralt, ,, wh...   \n",
       "106    (\", \\n, \", There, are, some, ,, \", Geralt, rep...   \n",
       "110    (\", \\n, Geralt, took, off, a, glove, and, shoo...   \n",
       "...                                                  ...   \n",
       "11314  (He, only, saw, black, -, gloved, hands, squee...   \n",
       "11316                                 (Oh, ,, Geralt, !)   \n",
       "11321                            (Say, it, ,, Geralt, !)   \n",
       "11322  (Forever, !, Say, it, !, \", \\n, \", Forever, ,,...   \n",
       "11327  (\", \\n, Yurga, saw, astonishment, in, the, eye...   \n",
       "\n",
       "                      entities character_entities  \n",
       "85           [Geralt of Rivia]           [Geralt]  \n",
       "95           [Geralt of Rivia]           [Geralt]  \n",
       "102            [Borch, Geralt]           [Geralt]  \n",
       "106                   [Geralt]           [Geralt]  \n",
       "110                   [Geralt]           [Geralt]  \n",
       "...                        ...                ...  \n",
       "11314                   [Ciri]             [Ciri]  \n",
       "11316                 [Geralt]           [Geralt]  \n",
       "11321                 [Geralt]           [Geralt]  \n",
       "11322  [Forever, Ciri, Geralt]     [Ciri, Geralt]  \n",
       "11327                  [Yurga]            [Yurga]  \n",
       "\n",
       "[1696 rows x 3 columns]"
      ]
     },
     "execution_count": 21,
     "metadata": {},
     "output_type": "execute_result"
    }
   ],
   "source": [
    "sent_entity_df_filtered"
   ]
  },
  {
   "cell_type": "code",
   "execution_count": 23,
   "id": "0f8cab69",
   "metadata": {},
   "outputs": [],
   "source": [
    "window_size = 5\n",
    "relation_ship = []\n",
    "for i in range(sent_entity_df_filtered.index[-1]):\n",
    "    end_i = min(i+5,sent_entity_df_filtered.index[-1])\n",
    "    char_list = sum((sent_entity_df_filtered.iloc[i:end_i].character_entities),[])\n",
    "    char_unique = [\n",
    "        char_list[i] for i in range(len(char_list))\n",
    "        if (i==0) or char_list[i] != char_list[i-1]\n",
    "    ]\n",
    "    if len(char_unique) > 1:\n",
    "        for idx,a in enumerate(char_unique[:-1]):\n",
    "            b = char_unique[idx+1]\n",
    "            relation_ship.append({\"source\":a,\"target\":b})"
   ]
  },
  {
   "cell_type": "code",
   "execution_count": 25,
   "id": "3d1e82ce",
   "metadata": {},
   "outputs": [
    {
     "data": {
      "text/html": [
       "<div>\n",
       "<style scoped>\n",
       "    .dataframe tbody tr th:only-of-type {\n",
       "        vertical-align: middle;\n",
       "    }\n",
       "\n",
       "    .dataframe tbody tr th {\n",
       "        vertical-align: top;\n",
       "    }\n",
       "\n",
       "    .dataframe thead th {\n",
       "        text-align: right;\n",
       "    }\n",
       "</style>\n",
       "<table border=\"1\" class=\"dataframe\">\n",
       "  <thead>\n",
       "    <tr style=\"text-align: right;\">\n",
       "      <th></th>\n",
       "      <th>source</th>\n",
       "      <th>target</th>\n",
       "    </tr>\n",
       "  </thead>\n",
       "  <tbody>\n",
       "    <tr>\n",
       "      <th>0</th>\n",
       "      <td>Geralt</td>\n",
       "      <td>Niedamir</td>\n",
       "    </tr>\n",
       "    <tr>\n",
       "      <th>1</th>\n",
       "      <td>Geralt</td>\n",
       "      <td>Niedamir</td>\n",
       "    </tr>\n",
       "    <tr>\n",
       "      <th>2</th>\n",
       "      <td>Niedamir</td>\n",
       "      <td>Geralt</td>\n",
       "    </tr>\n",
       "    <tr>\n",
       "      <th>3</th>\n",
       "      <td>Geralt</td>\n",
       "      <td>Niedamir</td>\n",
       "    </tr>\n",
       "    <tr>\n",
       "      <th>4</th>\n",
       "      <td>Niedamir</td>\n",
       "      <td>Geralt</td>\n",
       "    </tr>\n",
       "    <tr>\n",
       "      <th>5</th>\n",
       "      <td>Geralt</td>\n",
       "      <td>Niedamir</td>\n",
       "    </tr>\n",
       "    <tr>\n",
       "      <th>6</th>\n",
       "      <td>Niedamir</td>\n",
       "      <td>Geralt</td>\n",
       "    </tr>\n",
       "    <tr>\n",
       "      <th>7</th>\n",
       "      <td>Geralt</td>\n",
       "      <td>Niedamir</td>\n",
       "    </tr>\n",
       "    <tr>\n",
       "      <th>8</th>\n",
       "      <td>Niedamir</td>\n",
       "      <td>Geralt</td>\n",
       "    </tr>\n",
       "    <tr>\n",
       "      <th>9</th>\n",
       "      <td>Geralt</td>\n",
       "      <td>Niedamir</td>\n",
       "    </tr>\n",
       "  </tbody>\n",
       "</table>\n",
       "</div>"
      ],
      "text/plain": [
       "     source    target\n",
       "0    Geralt  Niedamir\n",
       "1    Geralt  Niedamir\n",
       "2  Niedamir    Geralt\n",
       "3    Geralt  Niedamir\n",
       "4  Niedamir    Geralt\n",
       "5    Geralt  Niedamir\n",
       "6  Niedamir    Geralt\n",
       "7    Geralt  Niedamir\n",
       "8  Niedamir    Geralt\n",
       "9    Geralt  Niedamir"
      ]
     },
     "execution_count": 25,
     "metadata": {},
     "output_type": "execute_result"
    }
   ],
   "source": [
    "relation_ship_df =pd.DataFrame(relation_ship)\n",
    "relation_ship_df.head(10)"
   ]
  },
  {
   "cell_type": "code",
   "execution_count": 26,
   "id": "34e4a5f3",
   "metadata": {},
   "outputs": [
    {
     "data": {
      "text/plain": [
       "(4999, 2)"
      ]
     },
     "execution_count": 26,
     "metadata": {},
     "output_type": "execute_result"
    }
   ],
   "source": [
    "relation_ship_df.shape"
   ]
  },
  {
   "cell_type": "code",
   "execution_count": 27,
   "id": "fc346837",
   "metadata": {},
   "outputs": [
    {
     "data": {
      "text/html": [
       "<div>\n",
       "<style scoped>\n",
       "    .dataframe tbody tr th:only-of-type {\n",
       "        vertical-align: middle;\n",
       "    }\n",
       "\n",
       "    .dataframe tbody tr th {\n",
       "        vertical-align: top;\n",
       "    }\n",
       "\n",
       "    .dataframe thead th {\n",
       "        text-align: right;\n",
       "    }\n",
       "</style>\n",
       "<table border=\"1\" class=\"dataframe\">\n",
       "  <thead>\n",
       "    <tr style=\"text-align: right;\">\n",
       "      <th></th>\n",
       "      <th>source</th>\n",
       "      <th>target</th>\n",
       "    </tr>\n",
       "  </thead>\n",
       "  <tbody>\n",
       "    <tr>\n",
       "      <th>0</th>\n",
       "      <td>Geralt</td>\n",
       "      <td>Niedamir</td>\n",
       "    </tr>\n",
       "    <tr>\n",
       "      <th>1</th>\n",
       "      <td>Geralt</td>\n",
       "      <td>Niedamir</td>\n",
       "    </tr>\n",
       "    <tr>\n",
       "      <th>2</th>\n",
       "      <td>Geralt</td>\n",
       "      <td>Niedamir</td>\n",
       "    </tr>\n",
       "    <tr>\n",
       "      <th>3</th>\n",
       "      <td>Geralt</td>\n",
       "      <td>Niedamir</td>\n",
       "    </tr>\n",
       "    <tr>\n",
       "      <th>4</th>\n",
       "      <td>Geralt</td>\n",
       "      <td>Niedamir</td>\n",
       "    </tr>\n",
       "    <tr>\n",
       "      <th>...</th>\n",
       "      <td>...</td>\n",
       "      <td>...</td>\n",
       "    </tr>\n",
       "    <tr>\n",
       "      <th>4994</th>\n",
       "      <td>Ciri</td>\n",
       "      <td>Geralt</td>\n",
       "    </tr>\n",
       "    <tr>\n",
       "      <th>4995</th>\n",
       "      <td>Ciri</td>\n",
       "      <td>Geralt</td>\n",
       "    </tr>\n",
       "    <tr>\n",
       "      <th>4996</th>\n",
       "      <td>Geralt</td>\n",
       "      <td>Yurga</td>\n",
       "    </tr>\n",
       "    <tr>\n",
       "      <th>4997</th>\n",
       "      <td>Ciri</td>\n",
       "      <td>Geralt</td>\n",
       "    </tr>\n",
       "    <tr>\n",
       "      <th>4998</th>\n",
       "      <td>Geralt</td>\n",
       "      <td>Yurga</td>\n",
       "    </tr>\n",
       "  </tbody>\n",
       "</table>\n",
       "<p>4999 rows × 2 columns</p>\n",
       "</div>"
      ],
      "text/plain": [
       "      source    target\n",
       "0     Geralt  Niedamir\n",
       "1     Geralt  Niedamir\n",
       "2     Geralt  Niedamir\n",
       "3     Geralt  Niedamir\n",
       "4     Geralt  Niedamir\n",
       "...      ...       ...\n",
       "4994    Ciri    Geralt\n",
       "4995    Ciri    Geralt\n",
       "4996  Geralt     Yurga\n",
       "4997    Ciri    Geralt\n",
       "4998  Geralt     Yurga\n",
       "\n",
       "[4999 rows x 2 columns]"
      ]
     },
     "execution_count": 27,
     "metadata": {},
     "output_type": "execute_result"
    }
   ],
   "source": [
    "relation_ship_df = pd.DataFrame(np.sort(relation_ship_df.values,axis=1),columns=relation_ship_df.columns)\n",
    "relation_ship_df"
   ]
  },
  {
   "cell_type": "code",
   "execution_count": 28,
   "id": "aceea2a9",
   "metadata": {},
   "outputs": [],
   "source": [
    "relation_ship_df[\"value\"] = 1\n",
    "relation_ship_df = relation_ship_df.groupby(['source','target'],sort=False,as_index=False).sum()"
   ]
  },
  {
   "cell_type": "code",
   "execution_count": 29,
   "id": "d87d9184",
   "metadata": {},
   "outputs": [
    {
     "data": {
      "text/html": [
       "<div>\n",
       "<style scoped>\n",
       "    .dataframe tbody tr th:only-of-type {\n",
       "        vertical-align: middle;\n",
       "    }\n",
       "\n",
       "    .dataframe tbody tr th {\n",
       "        vertical-align: top;\n",
       "    }\n",
       "\n",
       "    .dataframe thead th {\n",
       "        text-align: right;\n",
       "    }\n",
       "</style>\n",
       "<table border=\"1\" class=\"dataframe\">\n",
       "  <thead>\n",
       "    <tr style=\"text-align: right;\">\n",
       "      <th></th>\n",
       "      <th>source</th>\n",
       "      <th>target</th>\n",
       "      <th>value</th>\n",
       "    </tr>\n",
       "  </thead>\n",
       "  <tbody>\n",
       "    <tr>\n",
       "      <th>0</th>\n",
       "      <td>Geralt</td>\n",
       "      <td>Niedamir</td>\n",
       "      <td>86</td>\n",
       "    </tr>\n",
       "    <tr>\n",
       "      <th>1</th>\n",
       "      <td>Geralt</td>\n",
       "      <td>Two</td>\n",
       "      <td>29</td>\n",
       "    </tr>\n",
       "    <tr>\n",
       "      <th>2</th>\n",
       "      <td>Eyck</td>\n",
       "      <td>Geralt</td>\n",
       "      <td>72</td>\n",
       "    </tr>\n",
       "    <tr>\n",
       "      <th>3</th>\n",
       "      <td>Eyck</td>\n",
       "      <td>Yarpen</td>\n",
       "      <td>32</td>\n",
       "    </tr>\n",
       "    <tr>\n",
       "      <th>4</th>\n",
       "      <td>Geralt</td>\n",
       "      <td>Yarpen</td>\n",
       "      <td>53</td>\n",
       "    </tr>\n",
       "    <tr>\n",
       "      <th>...</th>\n",
       "      <td>...</td>\n",
       "      <td>...</td>\n",
       "      <td>...</td>\n",
       "    </tr>\n",
       "    <tr>\n",
       "      <th>173</th>\n",
       "      <td>Two</td>\n",
       "      <td>Yurga</td>\n",
       "      <td>4</td>\n",
       "    </tr>\n",
       "    <tr>\n",
       "      <th>174</th>\n",
       "      <td>Ciri</td>\n",
       "      <td>Dandelion</td>\n",
       "      <td>4</td>\n",
       "    </tr>\n",
       "    <tr>\n",
       "      <th>175</th>\n",
       "      <td>Nadbor</td>\n",
       "      <td>Yurga</td>\n",
       "      <td>4</td>\n",
       "    </tr>\n",
       "    <tr>\n",
       "      <th>176</th>\n",
       "      <td>Nadbor</td>\n",
       "      <td>Sulik</td>\n",
       "      <td>4</td>\n",
       "    </tr>\n",
       "    <tr>\n",
       "      <th>177</th>\n",
       "      <td>Sulik</td>\n",
       "      <td>Yurga</td>\n",
       "      <td>4</td>\n",
       "    </tr>\n",
       "  </tbody>\n",
       "</table>\n",
       "<p>178 rows × 3 columns</p>\n",
       "</div>"
      ],
      "text/plain": [
       "     source     target  value\n",
       "0    Geralt   Niedamir     86\n",
       "1    Geralt        Two     29\n",
       "2      Eyck     Geralt     72\n",
       "3      Eyck     Yarpen     32\n",
       "4    Geralt     Yarpen     53\n",
       "..      ...        ...    ...\n",
       "173     Two      Yurga      4\n",
       "174    Ciri  Dandelion      4\n",
       "175  Nadbor      Yurga      4\n",
       "176  Nadbor      Sulik      4\n",
       "177   Sulik      Yurga      4\n",
       "\n",
       "[178 rows x 3 columns]"
      ]
     },
     "execution_count": 29,
     "metadata": {},
     "output_type": "execute_result"
    }
   ],
   "source": [
    "relation_ship_df"
   ]
  },
  {
   "cell_type": "code",
   "execution_count": 30,
   "id": "1bb6e70f",
   "metadata": {},
   "outputs": [],
   "source": [
    "G = nx.from_pandas_edgelist(relation_ship_df,\n",
    "                           source='source',\n",
    "                            target='target',\n",
    "                            edge_attr= 'value',\n",
    "                            create_using= nx.Graph()\n",
    "                           )"
   ]
  },
  {
   "cell_type": "code",
   "execution_count": 31,
   "id": "ebfbe727",
   "metadata": {},
   "outputs": [
    {
     "data": {
      "image/png": "[encoded data removed]",
      "text/plain": [
       "<Figure size 432x288 with 1 Axes>"
      ]
     },
     "metadata": {},
     "output_type": "display_data"
    }
   ],
   "source": [
    "pos = nx.kamada_kawai_layout(G)\n",
    "nx.draw(G,with_labels=True,node_color='skyblue',edge_cmap=plt.cm.Blues,pos=pos)\n",
    "plt.show()"
   ]
  },
  {
   "cell_type": "code",
   "execution_count": 36,
   "id": "5573eeb6",
   "metadata": {},
   "outputs": [
    {
     "name": "stdout",
     "output_type": "stream",
     "text": [
      "Local cdn resources have problems on chrome/safari when used in jupyter-notebook. \n"
     ]
    },
    {
     "data": {
      "text/html": [
       "\n",
       "        <iframe\n",
       "            width=\"1000px\"\n",
       "            height=\"700px\"\n",
       "            src=\"Witcher.html\"\n",
       "            frameborder=\"0\"\n",
       "            allowfullscreen\n",
       "            \n",
       "        ></iframe>\n",
       "        "
      ],
      "text/plain": [
       "<IPython.lib.display.IFrame at 0x1a3016d3ee0>"
      ]
     },
     "execution_count": 36,
     "metadata": {},
     "output_type": "execute_result"
    }
   ],
   "source": [
    "from pyvis.network import Network\n",
    "net = Network(notebook=True,width='1000px',height='700px',bgcolor='#222222',font_color='white'\n",
    "             )\n",
    "node_degree = dict(G.degree)\n",
    "nx.set_node_attributes(G,node_degree,'size')\n",
    "net.from_nx(G)\n",
    "net.show(\"Witcher.html\")"
   ]
  },
  {
   "cell_type": "code",
   "execution_count": 37,
   "id": "d677869b",
   "metadata": {},
   "outputs": [
    {
     "data": {
      "text/plain": [
       "{'Geralt': 0.8142857142857143,\n",
       " 'Niedamir': 0.11428571428571428,\n",
       " 'Two': 0.05714285714285714,\n",
       " 'Eyck': 0.12857142857142856,\n",
       " 'Yarpen': 0.12857142857142856,\n",
       " 'Dorregaray': 0.09999999999999999,\n",
       " 'Yennefer': 0.2571428571428571,\n",
       " 'Gyllenstiern': 0.11428571428571428,\n",
       " 'Boholt': 0.14285714285714285,\n",
       " 'Kennet': 0.08571428571428572,\n",
       " 'Crinfrid': 0.02857142857142857,\n",
       " 'Villentretenmerth': 0.08571428571428572,\n",
       " 'Istredd': 0.04285714285714286,\n",
       " 'Herbolth': 0.02857142857142857,\n",
       " 'Ivo': 0.014285714285714285,\n",
       " 'Roedskilde': 0.02857142857142857,\n",
       " 'Vespula': 0.05714285714285714,\n",
       " 'Dandelion': 0.19999999999999998,\n",
       " 'Pike': 0.02857142857142857,\n",
       " 'Dainty': 0.14285714285714285,\n",
       " 'Dudu': 0.04285714285714286,\n",
       " 'Rhyd': 0.02857142857142857,\n",
       " 'Vimme': 0.08571428571428572,\n",
       " 'Sulimir': 0.02857142857142857,\n",
       " 'Ther': 0.02857142857142857,\n",
       " 'Rhundurin': 0.02857142857142857,\n",
       " \"Sh'eenaz\": 0.08571428571428572,\n",
       " 'Agloval': 0.09999999999999999,\n",
       " 'Teleri': 0.04285714285714286,\n",
       " 'Gaspard': 0.02857142857142857,\n",
       " 'Dalia': 0.02857142857142857,\n",
       " 'Mestvin': 0.02857142857142857,\n",
       " 'Essi': 0.14285714285714285,\n",
       " 'Gerard': 0.04285714285714286,\n",
       " 'Zelest': 0.05714285714285714,\n",
       " 'Duke': 0.05714285714285714,\n",
       " 'Veverka': 0.02857142857142857,\n",
       " 'Akeretta': 0.04285714285714286,\n",
       " 'Ethain': 0.014285714285714285,\n",
       " 'Juan': 0.02857142857142857,\n",
       " 'Cynthia': 0.02857142857142857,\n",
       " 'Ciri': 0.24285714285714285,\n",
       " 'Braenn': 0.09999999999999999,\n",
       " 'Dunca': 0.014285714285714285,\n",
       " 'Ervyll': 0.08571428571428572,\n",
       " 'Kistrin': 0.07142857142857142,\n",
       " 'Marck': 0.02857142857142857,\n",
       " 'Voymir': 0.02857142857142857,\n",
       " 'Alvina': 0.02857142857142857,\n",
       " 'Vesemir': 0.04285714285714286,\n",
       " 'Cirilla': 0.014285714285714285,\n",
       " 'Freixenet': 0.02857142857142857,\n",
       " 'Venzlav': 0.09999999999999999,\n",
       " 'Ekkehard': 0.02857142857142857,\n",
       " 'Viraxas': 0.04285714285714286,\n",
       " 'Morenn': 0.04285714285714286,\n",
       " 'Mona': 0.02857142857142857,\n",
       " 'Pavetta': 0.02857142857142857,\n",
       " 'Baron': 0.02857142857142857,\n",
       " 'Junghans': 0.02857142857142857,\n",
       " 'Brick': 0.05714285714285714,\n",
       " 'Levecque': 0.07142857142857142,\n",
       " 'Mousesack': 0.02857142857142857,\n",
       " 'Yurga': 0.12857142857142856,\n",
       " 'Visenna': 0.04285714285714286,\n",
       " 'Atlan': 0.02857142857142857,\n",
       " 'Lytta': 0.014285714285714285,\n",
       " 'Gorazd': 0.014285714285714285,\n",
       " 'Roach': 0.02857142857142857,\n",
       " 'Nadbor': 0.02857142857142857,\n",
       " 'Sulik': 0.02857142857142857}"
      ]
     },
     "execution_count": 37,
     "metadata": {},
     "output_type": "execute_result"
    }
   ],
   "source": [
    "degree_dict = nx.degree_centrality(G)\n",
    "degree_dict"
   ]
  },
  {
   "cell_type": "code",
   "execution_count": 44,
   "id": "14738a4c",
   "metadata": {},
   "outputs": [],
   "source": [
    "def plot_cenrality(degree_dict):\n",
    "    degree_df = pd.DataFrame.from_dict(degree_dict,orient='index',columns=['centrality'],)\n",
    "    degree_df.sort_values('centrality',ascending=False)[:9].plot(kind='bar')\n",
    "    "
   ]
  },
  {
   "cell_type": "code",
   "execution_count": 45,
   "id": "bf21e8cc",
   "metadata": {},
   "outputs": [
    {
     "data": {
      "image/png": "[encoded data removed]",
      "text/plain": [
       "<Figure size 432x288 with 1 Axes>"
      ]
     },
     "metadata": {
      "needs_background": "light"
     },
     "output_type": "display_data"
    }
   ],
   "source": [
    "degree_dict = nx.degree_centrality(G)\n",
    "plot_cenrality(degree_dict)"
   ]
  },
  {
   "cell_type": "code",
   "execution_count": 46,
   "id": "a5b29846",
   "metadata": {},
   "outputs": [
    {
     "data": {
      "image/png": "[encoded data removed]",
      "text/plain": [
       "<Figure size 432x288 with 1 Axes>"
      ]
     },
     "metadata": {
      "needs_background": "light"
     },
     "output_type": "display_data"
    }
   ],
   "source": [
    "degree_betweenness_dict = nx.betweenness_centrality(G)\n",
    "plot_cenrality(degree_betweenness_dict)"
   ]
  },
  {
   "cell_type": "code",
   "execution_count": 47,
   "id": "a8f51dac",
   "metadata": {},
   "outputs": [
    {
     "data": {
      "image/png": "[encoded data removed]",
      "text/plain": [
       "<Figure size 432x288 with 1 Axes>"
      ]
     },
     "metadata": {
      "needs_background": "light"
     },
     "output_type": "display_data"
    }
   ],
   "source": [
    "degree_clossness_dict = nx.closeness_centrality(G)\n",
    "plot_cenrality(degree_clossness_dict)"
   ]
  },
  {
   "cell_type": "code",
   "execution_count": 48,
   "id": "f829b633",
   "metadata": {},
   "outputs": [],
   "source": [
    "nx.set_node_attributes(G,degree_dict,'degree_cent')\n",
    "nx.set_node_attributes(G,degree_betweenness_dict,'betweenness_cent')\n",
    "nx.set_node_attributes(G,degree_clossness_dict,'clossness_cent')"
   ]
  },
  {
   "cell_type": "code",
   "execution_count": 50,
   "id": "21f08f8e",
   "metadata": {},
   "outputs": [],
   "source": [
    "#!pip install python-louvain"
   ]
  },
  {
   "cell_type": "code",
   "execution_count": 51,
   "id": "d3ef22ed",
   "metadata": {},
   "outputs": [],
   "source": [
    "import community as community_louvain"
   ]
  },
  {
   "cell_type": "code",
   "execution_count": 52,
   "id": "e56600e5",
   "metadata": {},
   "outputs": [],
   "source": [
    "communities = community_louvain.best_partition(G)"
   ]
  },
  {
   "cell_type": "code",
   "execution_count": 53,
   "id": "287f3aee",
   "metadata": {},
   "outputs": [
    {
     "data": {
      "text/plain": [
       "{'Geralt': 2,\n",
       " 'Niedamir': 1,\n",
       " 'Two': 5,\n",
       " 'Eyck': 1,\n",
       " 'Yarpen': 1,\n",
       " 'Dorregaray': 1,\n",
       " 'Yennefer': 1,\n",
       " 'Gyllenstiern': 1,\n",
       " 'Boholt': 1,\n",
       " 'Kennet': 1,\n",
       " 'Crinfrid': 2,\n",
       " 'Villentretenmerth': 1,\n",
       " 'Istredd': 2,\n",
       " 'Herbolth': 2,\n",
       " 'Ivo': 2,\n",
       " 'Roedskilde': 2,\n",
       " 'Vespula': 4,\n",
       " 'Dandelion': 4,\n",
       " 'Pike': 4,\n",
       " 'Dainty': 4,\n",
       " 'Dudu': 4,\n",
       " 'Rhyd': 4,\n",
       " 'Vimme': 4,\n",
       " 'Sulimir': 4,\n",
       " 'Ther': 4,\n",
       " 'Rhundurin': 4,\n",
       " \"Sh'eenaz\": 0,\n",
       " 'Agloval': 0,\n",
       " 'Teleri': 4,\n",
       " 'Gaspard': 4,\n",
       " 'Dalia': 4,\n",
       " 'Mestvin': 4,\n",
       " 'Essi': 0,\n",
       " 'Gerard': 0,\n",
       " 'Zelest': 0,\n",
       " 'Duke': 0,\n",
       " 'Veverka': 0,\n",
       " 'Akeretta': 0,\n",
       " 'Ethain': 2,\n",
       " 'Juan': 0,\n",
       " 'Cynthia': 0,\n",
       " 'Ciri': 3,\n",
       " 'Braenn': 2,\n",
       " 'Dunca': 2,\n",
       " 'Ervyll': 3,\n",
       " 'Kistrin': 2,\n",
       " 'Marck': 2,\n",
       " 'Voymir': 2,\n",
       " 'Alvina': 2,\n",
       " 'Vesemir': 2,\n",
       " 'Cirilla': 2,\n",
       " 'Freixenet': 3,\n",
       " 'Venzlav': 3,\n",
       " 'Ekkehard': 3,\n",
       " 'Viraxas': 3,\n",
       " 'Morenn': 3,\n",
       " 'Mona': 2,\n",
       " 'Pavetta': 3,\n",
       " 'Baron': 3,\n",
       " 'Junghans': 3,\n",
       " 'Brick': 3,\n",
       " 'Levecque': 3,\n",
       " 'Mousesack': 3,\n",
       " 'Yurga': 5,\n",
       " 'Visenna': 2,\n",
       " 'Atlan': 5,\n",
       " 'Lytta': 2,\n",
       " 'Gorazd': 2,\n",
       " 'Roach': 5,\n",
       " 'Nadbor': 5,\n",
       " 'Sulik': 5}"
      ]
     },
     "execution_count": 53,
     "metadata": {},
     "output_type": "execute_result"
    }
   ],
   "source": [
    "communities"
   ]
  },
  {
   "cell_type": "code",
   "execution_count": 54,
   "id": "1ae78eaa",
   "metadata": {},
   "outputs": [],
   "source": [
    "nx.set_node_attributes(G,communities,'group')"
   ]
  },
  {
   "cell_type": "code",
   "execution_count": 55,
   "id": "66315f14",
   "metadata": {},
   "outputs": [
    {
     "name": "stdout",
     "output_type": "stream",
     "text": [
      "Local cdn resources have problems on chrome/safari when used in jupyter-notebook. \n"
     ]
    },
    {
     "data": {
      "text/html": [
       "\n",
       "        <iframe\n",
       "            width=\"1000px\"\n",
       "            height=\"700px\"\n",
       "            src=\"Witcher.html\"\n",
       "            frameborder=\"0\"\n",
       "            allowfullscreen\n",
       "            \n",
       "        ></iframe>\n",
       "        "
      ],
      "text/plain": [
       "<IPython.lib.display.IFrame at 0x1a302059ee0>"
      ]
     },
     "execution_count": 55,
     "metadata": {},
     "output_type": "execute_result"
    }
   ],
   "source": [
    "com_net = Network(notebook=True,width='1000px',height='700px',bgcolor='#222222',font_color='white'\n",
    "             )\n",
    "com_net.from_nx(G)\n",
    "com_net.show(\"Witcher.html\")"
   ]
  },
  {
   "cell_type": "markdown",
   "id": "4ba8e18b",
   "metadata": {},
   "source": [
    "#### For more network anaylaytics\n",
    "coursera course :\n",
    "    https://www.coursera.org/learn/big-data-graph-analytics?"
   ]
  },
  {
   "cell_type": "code",
   "execution_count": null,
   "id": "ced80c12",
   "metadata": {},
   "outputs": [],
   "source": []
  }
 ],
 "metadata": {
  "kernelspec": {
   "display_name": "Python 3 (ipykernel)",
   "language": "python",
   "name": "python3"
  },
  "language_info": {
   "codemirror_mode": {
    "name": "ipython",
    "version": 3
   },
   "file_extension": ".py",
   "mimetype": "text/x-python",
   "name": "python",
   "nbconvert_exporter": "python",
   "pygments_lexer": "ipython3",
   "version": "3.9.12"
  },
  "varInspector": {
   "cols": {
    "lenName": 16,
    "lenType": 16,
    "lenVar": 40
   },
   "kernels_config": {
    "python": {
     "delete_cmd_postfix": "",
     "delete_cmd_prefix": "del ",
     "library": "var_list.py",
     "varRefreshCmd": "print(var_dic_list())"
    },
    "r": {
     "delete_cmd_postfix": ") ",
     "delete_cmd_prefix": "rm(",
     "library": "var_list.r",
     "varRefreshCmd": "cat(var_dic_list()) "
    }
   },
   "types_to_exclude": [
    "module",
    "function",
    "builtin_function_or_method",
    "instance",
    "_Feature"
   ],
   "window_display": false
  }
 },
 "nbformat": 4,
 "nbformat_minor": 5
}
